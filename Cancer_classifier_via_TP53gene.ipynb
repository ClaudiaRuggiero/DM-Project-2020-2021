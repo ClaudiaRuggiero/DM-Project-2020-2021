{
  "nbformat": 4,
  "nbformat_minor": 0,
  "metadata": {
    "colab": {
      "name": "Cancer_classifier_via_TP53gene.ipynb",
      "provenance": [],
      "collapsed_sections": [],
      "include_colab_link": true
    },
    "kernelspec": {
      "name": "python3",
      "display_name": "Python 3"
    }
  },
  "cells": [
    {
      "cell_type": "markdown",
      "metadata": {
        "id": "view-in-github",
        "colab_type": "text"
      },
      "source": [
        "<a href=\"https://colab.research.google.com/github/ClaudiaRuggiero/DM-Project-2020-2021/blob/main/Cancer_classifier_via_TP53gene.ipynb\" target=\"_parent\"><img src=\"https://colab.research.google.com/assets/colab-badge.svg\" alt=\"Open In Colab\"/></a>"
      ]
    },
    {
      "cell_type": "code",
      "metadata": {
        "colab": {
          "base_uri": "https://localhost:8080/"
        },
        "id": "kt2Lj6gRc_lL",
        "outputId": "db354a14-45a2-4c66-ba15-1390eb713025"
      },
      "source": [
        "from google.colab import drive\r\n",
        "drive.mount('/content/drive')"
      ],
      "execution_count": null,
      "outputs": [
        {
          "output_type": "stream",
          "text": [
            "Drive already mounted at /content/drive; to attempt to forcibly remount, call drive.mount(\"/content/drive\", force_remount=True).\n"
          ],
          "name": "stdout"
        }
      ]
    },
    {
      "cell_type": "markdown",
      "metadata": {
        "id": "bU8W_JoZdQMv"
      },
      "source": [
        "**Path to datasets**"
      ]
    },
    {
      "cell_type": "code",
      "metadata": {
        "id": "xur0NTHZdMsF"
      },
      "source": [
        "######## INSERT DATASETS PATH ########\r\n",
        "\r\n",
        "dataset_path = \"/content/drive/My Drive/Colab Notebooks/base_changes_dataset_extended.tsv\"\r\n",
        "\r\n",
        "biovec_model_path=\"/content/drive/My Drive/Colab Notebooks/swissprot-reviewed-protvec.model\"\r\n",
        "\r\n"
      ],
      "execution_count": null,
      "outputs": []
    },
    {
      "cell_type": "markdown",
      "metadata": {
        "id": "Y15pYpku7fky"
      },
      "source": [
        "#Imports"
      ]
    },
    {
      "cell_type": "code",
      "metadata": {
        "id": "QVDGYYhznmX4"
      },
      "source": [
        "import numpy as np\r\n",
        "\r\n",
        "import keras\r\n",
        "from keras import models\r\n",
        "from keras.layers import Dense, Activation, Dropout, Flatten,\\\r\n",
        "     Conv1D, MaxPooling1D, LSTM, Bidirectional\r\n",
        "from keras.layers.normalization import BatchNormalization\r\n",
        "from keras.optimizers import Adamax\r\n",
        "\r\n",
        "from sklearn.svm import SVC\r\n",
        "from sklearn.ensemble import RandomForestClassifier\r\n",
        "from sklearn.metrics import recall_score, precision_score, accuracy_score\r\n",
        "from sklearn.model_selection import train_test_split\r\n",
        "from keras.metrics import Precision, Recall, CategoricalAccuracy "
      ],
      "execution_count": null,
      "outputs": []
    },
    {
      "cell_type": "markdown",
      "metadata": {
        "id": "557L-z_l8Tv_"
      },
      "source": [
        "**Biovec package for protein embedding**"
      ]
    },
    {
      "cell_type": "code",
      "metadata": {
        "id": "Ujgv8lee8VhJ",
        "colab": {
          "base_uri": "https://localhost:8080/"
        },
        "outputId": "0b2143a6-2cdc-4a02-808b-c34e517c390b"
      },
      "source": [
        "!pip install biovec"
      ],
      "execution_count": null,
      "outputs": [
        {
          "output_type": "stream",
          "text": [
            "Requirement already satisfied: biovec in /usr/local/lib/python3.6/dist-packages (0.2.7)\n",
            "Requirement already satisfied: gensim==3.4.0 in /usr/local/lib/python3.6/dist-packages (from biovec) (3.4.0)\n",
            "Requirement already satisfied: tqdm>=2.0.0 in /usr/local/lib/python3.6/dist-packages (from biovec) (4.41.1)\n",
            "Requirement already satisfied: pyfasta==0.5.2 in /usr/local/lib/python3.6/dist-packages (from biovec) (0.5.2)\n",
            "Requirement already satisfied: numpy>=1.11.3 in /usr/local/lib/python3.6/dist-packages (from gensim==3.4.0->biovec) (1.19.5)\n",
            "Requirement already satisfied: smart-open>=1.2.1 in /usr/local/lib/python3.6/dist-packages (from gensim==3.4.0->biovec) (4.1.2)\n",
            "Requirement already satisfied: scipy>=0.18.1 in /usr/local/lib/python3.6/dist-packages (from gensim==3.4.0->biovec) (1.4.1)\n",
            "Requirement already satisfied: six>=1.5.0 in /usr/local/lib/python3.6/dist-packages (from gensim==3.4.0->biovec) (1.15.0)\n"
          ],
          "name": "stdout"
        }
      ]
    },
    {
      "cell_type": "markdown",
      "metadata": {
        "id": "7xR__wTud8Kd"
      },
      "source": [
        "#Global vars"
      ]
    },
    {
      "cell_type": "code",
      "metadata": {
        "id": "eTcnuNKVd9fQ"
      },
      "source": [
        "TP53 = (\"ATGGAGGAGCCGCAGTCAGATCCTAGCGTCGAGCCCCCTCTGAGTCAGGAAACATTTTCA\"\\\r\n",
        "        \"GACCTATGGAAACTACTTCCTGAAAACAACGTTCTGTCCCCCTTGCCGTCCCAAGCAATG\"\\\r\n",
        "        \"GATGATTTGATGCTGTCCCCGGACGATATTGAACAATGGTTCACTGAAGACCCAGGTCCA\"\\\r\n",
        "        \"GATGAAGCTCCCAGAATGCCAGAGGCTGCTCCCCGCGTGGCCCCTGCACCAGCAGCTCCT\"\\\r\n",
        "        \"ACACCGGCGGCCCCTGCACCAGCCCCCTCCTGGCCCCTGTCATCTTCTGTCCCTTCCCAG\"\\\r\n",
        "        \"AAAACCTACCAGGGCAGCTACGGTTTCCGTCTGGGCTTCTTGCATTCTGGGACAGCCAAG\"\\\r\n",
        "        \"TCTGTGACTTGCACGTACTCCCCTGCCCTCAACAAGATGTTTTGCCAACTGGCCAAGACC\"\\\r\n",
        "        \"TGCCCTGTGCAGCTGTGGGTTGATTCCACACCCCCGCCCGGCACCCGCGTCCGCGCCATG\"\\\r\n",
        "        \"GCCATCTACAAGCAGTCACAGCACATGACGGAGGTTGTGAGGCGCTGCCCCCACCATGAG\"\\\r\n",
        "        \"CGCTGCTCAGATAGCGATGGTCTGGCCCCTCCTCAGCATCTTATCCGAGTGGAAGGAAAT\"\\\r\n",
        "        \"TTGCGTGTGGAGTATTTGGATGACAGAAACACTTTTCGACATAGTGTGTGTGTGCCCTAT\"\\\r\n",
        "        \"GAGCCGCCTGAGGTTGGCTCTGACTGTACCACCATCCACTACAACTACATGTGTAACAGT\"\\\r\n",
        "        \"TCCTGCATGGGCGGCATGAACCGGAGGCCCATCCTCACCATCATCACACTGGAAGACTCC\"\\\r\n",
        "        \"AGTGGTAATCTACTGGGACGGAACAGCTTTGAGGTGCGTGTTTGTGCCTGTCCTGGGAGA\"\\\r\n",
        "        \"GACCGGCGCACAGAGGAAGAGAATCTCCGCAAGAAAGGGGAGCCTCACCACGAGCTGCCC\"\\\r\n",
        "        \"CCAGGGAGCACTAAGCGAGCACTGCCCAACAACACCAGCTCCTCTCCCCAGCCAAAGAAG\"\\\r\n",
        "        \"AAACCACTGGATGGAGAATATTTCACCCTTCAGATCCGTGGGCGTGAGCGCTTCGAGATG\"\\\r\n",
        "        \"TTCCGAGAGCTGAATGAGGCCTTGGAACTCAAGGATGCCCAGGCTGGGAAGGAGCCAGGG\"\\\r\n",
        "        \"GGGAGCAGGGCTCACTCCAGCCACCTGAAGTCCAAAAAGGGTCAGTCTACCTCCCGCCAT\"\\\r\n",
        "        \"AAAAAACTCATGTTCAAGACAGAAGGGCCTGACTCAGACTGA\" )\r\n",
        "\r\n",
        "\r\n",
        "aminoacid_types = ['His', 'Asp', 'Trp', 'Ser', 'Cys', \r\n",
        "                   'Leu', 'Tyr', 'Met', 'Ter', 'Ile', \r\n",
        "                   'Gln', 'Gly', 'Val', 'Arg', 'Thr', \r\n",
        "                   'Asn', 'Phe', 'Lys', 'Ala', 'Pro', 'Glu']\r\n",
        "\r\n",
        "ev_types = ['Tv', 'Ts', 'Td']\r\n",
        "\r\n",
        "complexity_types = ['DMU', 'DMD', 'SM', 'MM', 'DMS']\r\n",
        "\r\n",
        "\r\n",
        "#Labels selected for classification\r\n",
        "target_labels = ['Colorectal carcinoma', \r\n",
        "                 'Lung (NSCLC)',\r\n",
        "                 'Bladder carcinoma',\r\n",
        "                 'Esophageal SCC',\r\n",
        "                 'Hepatocellular carcinoma']\r\n",
        "                 #'Breast carcinoma', \r\n",
        "                 #'Ovarian carcinoma']\r\n",
        "\r\n",
        "\r\n",
        "#inputs and labels types\r\n",
        "INPUTS = [ [], [], [], [], [], [], [], [] ]\r\n",
        "LABELS = [ [], [], [], [] ]\r\n",
        "\r\n",
        "# input indices \r\n",
        "SIMPLE_CODON = 0\r\n",
        "CODON_EXTENDED = 1\r\n",
        "SEQUENCE_FLAT = 2\r\n",
        "SEQUENCE_EXTENDED = 3\r\n",
        "SEQUENCE_2D = 4\r\n",
        "SEQUENCE_FREQ_FLAT = 5\r\n",
        "SEQUENCE_FREQ_2D = 6\r\n",
        "PROTVEC = 7\r\n",
        "\r\n",
        "#labels indices \r\n",
        "STD_LABELS_INT = 0\r\n",
        "STD_LABELS_VECT = 1\r\n",
        "BLACKLIST_LABELS_INT = 2\r\n",
        "BLACKLIST_LABELS_VECT = 3\r\n",
        "\r\n",
        "BALANCE = False\r\n",
        "WINDOW_SIZE = 5\r\n",
        "\r\n",
        "diseases = []\r\n",
        "codons = []\r\n",
        "positions = []\r\n",
        "\r\n",
        "aminoacids = []\r\n",
        "mutant_aminoacids = []\r\n",
        "event_types = []\r\n",
        "complexities = []\r\n",
        "\r\n",
        "\r\n",
        "#contains sequences for each mutant codon\r\n",
        "input_seqs = []\r\n",
        "\r\n",
        "#includes most relevant subsequences\r\n",
        "blacklist = []\r\n",
        "\r\n",
        "#index {codon_id : list of subseq}\r\n",
        "codon2subseq= {}\r\n",
        "\r\n",
        "#inverted index\r\n",
        "disease2subseq = {}\r\n"
      ],
      "execution_count": null,
      "outputs": []
    },
    {
      "cell_type": "markdown",
      "metadata": {
        "id": "9SuMl-zyevqY"
      },
      "source": [
        "#Utilities"
      ]
    },
    {
      "cell_type": "markdown",
      "metadata": {
        "id": "3Fb2MIUKf8xk"
      },
      "source": [
        "**Build inverted index** {disease : {subseq : freq}}"
      ]
    },
    {
      "cell_type": "code",
      "metadata": {
        "id": "bfQsVGTugCCl"
      },
      "source": [
        "\r\n",
        "#Given a seq builds all possible subsequences of length WINDOW_SIZE \r\n",
        "def create_subsequences(seq):\r\n",
        "  result = []\r\n",
        "  for i in range(0, len(seq) - WINDOW_SIZE * 3 + 1, 3):\r\n",
        "    result.append(seq[i : i + WINDOW_SIZE * 3])\r\n",
        "  \r\n",
        "  return result\r\n",
        "\r\n",
        "\r\n",
        "#Adds subsequences to key=disease in the inverted index\r\n",
        "# each subsequence is a dict {subseq : frequency}\r\n",
        "def add_subsequences(disease, subsequences):   \r\n",
        "  if disease not in disease2subseq:\r\n",
        "    disease2subseq[disease] = {}\r\n",
        "\r\n",
        "  for s in subsequences:\r\n",
        "    if s not in disease2subseq[disease]:\r\n",
        "      disease2subseq[disease][s] = 0\r\n",
        "    disease2subseq[disease][s] += 1\r\n",
        "    \r\n",
        "\r\n",
        "#Transforms integer labels to vector labels\r\n",
        "def encode_labels(labels) :\r\n",
        "  out = [[0] * len(target_labels) for x in labels]\r\n",
        "  \r\n",
        "  for i in range(len(labels)):\r\n",
        "    label = labels[i]\r\n",
        "    out[i][label] = 1\r\n",
        "\r\n",
        "  return out\r\n"
      ],
      "execution_count": null,
      "outputs": []
    },
    {
      "cell_type": "markdown",
      "metadata": {
        "id": "5SubtycfgHAE"
      },
      "source": [
        "**Build sequence of adjacent codons for each input codon**"
      ]
    },
    {
      "cell_type": "code",
      "metadata": {
        "id": "6ygJhEA5gHzS"
      },
      "source": [
        "offset_left = WINDOW_SIZE - 1\r\n",
        "offset_right = len(TP53) // 3 - WINDOW_SIZE\r\n",
        "\r\n",
        "\r\n",
        "#computes the required padding\r\n",
        "def pad(pos):\r\n",
        "  if pos < offset_left: \r\n",
        "    return WINDOW_SIZE - 1 - pos\r\n",
        "  elif pos > offset_right:\r\n",
        "    return WINDOW_SIZE - 1 - (len(TP53) // 3 - 1 - pos)\r\n",
        "  else:\r\n",
        "    return 0\r\n",
        "\r\n",
        "\r\n",
        "\r\n",
        "#given args=mutant_codon, position builds a sequence of WINDOW_SIZE - 1 adjacent codons\r\n",
        "def build_sequence(mutant_codon, pos):\r\n",
        "  \r\n",
        "  shift = 3 * (WINDOW_SIZE - 1)\r\n",
        "  padding = \"\".join(['0'] * 3 * pad(pos))\r\n",
        "\r\n",
        "  if pos < offset_left:\r\n",
        "    seq = TP53[: 3 * (pos + WINDOW_SIZE)]\r\n",
        "    pad_seq = padding + seq\r\n",
        "  \r\n",
        "  elif pos > offset_right:\r\n",
        "    seq = TP53[3 * (pos - WINDOW_SIZE + 1) :]\r\n",
        "    pad_seq = seq + padding\r\n",
        "  \r\n",
        "  else:\r\n",
        "    seq = TP53[3 * (pos - (WINDOW_SIZE - 1)) : 3 * (pos + WINDOW_SIZE)]\r\n",
        "    pad_seq = seq\r\n",
        "  \r\n",
        "  #replace codon with mutant codon in input sequence\r\n",
        "  pad_seq, mutant_codon = list(pad_seq), list(mutant_codon)\r\n",
        "  pad_seq[shift : shift + 3] = mutant_codon\r\n",
        "  \r\n",
        "  return \"\".join(pad_seq)\r\n"
      ],
      "execution_count": null,
      "outputs": []
    },
    {
      "cell_type": "markdown",
      "metadata": {
        "id": "MqhwmDVhgdp5"
      },
      "source": [
        "**Create blacklist of most relevant subsequences for all diseases**"
      ]
    },
    {
      "cell_type": "code",
      "metadata": {
        "id": "8wZ8MJ86geOe"
      },
      "source": [
        "import math \r\n",
        "\r\n",
        "def last_valid(threshold):\r\n",
        "    sum = 0\r\n",
        "    for v in disease2subseq[x].values():\r\n",
        "      if (sum + v) > threshold:\r\n",
        "        break\r\n",
        "      sum += v\r\n",
        "\r\n",
        "    return v\r\n",
        "\r\n",
        "\r\n",
        "#assumes all items key,value in inverted index are ordered by value \r\n",
        "def create_blacklist(percentage):    \r\n",
        "  for x in disease2subseq:  \r\n",
        "    threshold = percentage * math.fsum([v for v in disease2subseq[x].values()])                                \r\n",
        "    min_freq = last_valid(threshold)                                                                  \r\n",
        "    \r\n",
        "      \r\n",
        "    for k, v in disease2subseq[x].items():\r\n",
        "      if v >= min_freq and v not in blacklist:\r\n",
        "        blacklist.append(k)\r\n"
      ],
      "execution_count": null,
      "outputs": []
    },
    {
      "cell_type": "markdown",
      "metadata": {
        "id": "hv7OGyNWgxCK"
      },
      "source": [
        "#Preprocessing"
      ]
    },
    {
      "cell_type": "markdown",
      "metadata": {
        "id": "nbIkAjhw88Ta"
      },
      "source": [
        "**Load biovec pretrained model**"
      ]
    },
    {
      "cell_type": "code",
      "metadata": {
        "id": "_gjPamX89C1x"
      },
      "source": [
        "import biovec\r\n",
        "\r\n",
        "pv = biovec.models.load_protvec(biovec_model_path)"
      ],
      "execution_count": null,
      "outputs": []
    },
    {
      "cell_type": "markdown",
      "metadata": {
        "id": "r59YA9yIgxd9"
      },
      "source": [
        "**Load data and populate structures**"
      ]
    },
    {
      "cell_type": "code",
      "metadata": {
        "id": "N-jXArRWgwaD"
      },
      "source": [
        "import csv\r\n",
        "\r\n",
        "\r\n",
        "with open(dataset_path, 'r', newline=\"\", encoding='utf8', errors='replace') as dataset:\r\n",
        "  reader = csv.reader(dataset, delimiter=\"\\t\")\r\n",
        "\r\n",
        "  codon_id = 0\r\n",
        "  for row in reader:\r\n",
        "    codon_pos, codon, mutant_codon = [row[i] for i in range(4, 7)]\r\n",
        "    aa, mutant_aa, ev_type, complexity = row[7], row[8], row[12], row[13]\r\n",
        "    disease = row[-1]\r\n",
        "    \r\n",
        "    if disease in target_labels:\r\n",
        "      disease_id = target_labels.index(disease)\r\n",
        "      diseases.append(disease_id)\r\n",
        "\r\n",
        "      #INPUT TYPE 0, 1\r\n",
        "      codons.append(\"\".join([codon, mutant_codon]))\r\n",
        "      positions.append(int(codon_pos))\r\n",
        "\r\n",
        "      #OTHER INPUT TYPES\r\n",
        "      # build codon sequence and all possible subseqs\r\n",
        "      codon_seq = build_sequence(mutant_codon, int(codon_pos)-1)\r\n",
        "      codon_subseqs = create_subsequences(codon_seq)\r\n",
        "\r\n",
        "\r\n",
        "      add_subsequences(disease_id, subsequences=codon_subseqs)\r\n",
        "      codon2subseq[codon_id] = codon_subseqs\r\n",
        "      input_seqs.append(codon_seq)\r\n",
        "\r\n",
        "      for item, l in zip([aa, mutant_aa, ev_type, complexity], [aminoacids, mutant_aminoacids, event_types, complexities]):\r\n",
        "        l.append(item)\r\n",
        "\r\n",
        "      codon_id += 1\r\n"
      ],
      "execution_count": null,
      "outputs": []
    },
    {
      "cell_type": "markdown",
      "metadata": {
        "id": "mpbgOHYpjxW_"
      },
      "source": [
        "**Encoding**"
      ]
    },
    {
      "cell_type": "code",
      "metadata": {
        "id": "xUlfVdGRj0NR"
      },
      "source": [
        "base_encoder = {'A' : [0, 0, 0, 1], \r\n",
        "                'C' : [0, 0, 1, 0], \r\n",
        "                'G' : [0, 1, 0, 0], \r\n",
        "                'T' : [1, 0, 0, 0],\r\n",
        "                '0' : [0, 0, 0, 0] }\r\n",
        "\r\n",
        "evtype_encoder = { 'Tv' : [0, 0, 1],\r\n",
        "                   'Ts' : [0, 1, 0], \r\n",
        "                   'Td' : [1, 0, 0] }\r\n",
        "\r\n",
        "complexity_encoder = {'DMU' : [0, 0, 0, 0, 1], \r\n",
        "                      'DMD' : [0, 0, 0, 1, 0], \r\n",
        "                      'SM'  : [0, 0, 1, 0, 0], \r\n",
        "                      'MM'  : [0, 1, 0, 0, 0], \r\n",
        "                      'DMS' : [1, 0, 0, 0, 0] }\r\n",
        "\r\n",
        "aminoacid_encoder = { 'His' : [1, 0, 0, 0, 0, 0, 0, 0, 0, 0, 0, 0, 0, 0, 0, 0, 0, 0, 0, 0, 0],\r\n",
        "                      'Asp' : [0, 1, 0, 0, 0, 0, 0, 0, 0, 0, 0, 0, 0, 0, 0, 0, 0, 0, 0, 0, 0],\r\n",
        "                      'Trp':  [0, 0, 1, 0, 0, 0, 0, 0, 0, 0, 0, 0, 0, 0, 0, 0, 0, 0, 0, 0, 0],\r\n",
        "                      'Ser':  [0, 0, 0, 1, 0, 0, 0, 0, 0, 0, 0, 0, 0, 0, 0, 0, 0, 0, 0, 0, 0],\r\n",
        "                      'Cys':  [0, 0, 0, 0, 1, 0, 0, 0, 0, 0, 0, 0, 0, 0, 0, 0, 0, 0, 0, 0, 0],\r\n",
        "                      'Leu':  [0, 0, 0, 0, 0, 1, 0, 0, 0, 0, 0, 0, 0, 0, 0, 0, 0, 0, 0, 0, 0],\r\n",
        "                      'Tyr':  [0, 0, 0, 0, 0, 0, 1, 0, 0, 0, 0, 0, 0, 0, 0, 0, 0, 0, 0, 0, 0],\r\n",
        "                      'Met':  [0, 0, 0, 0, 0, 0, 0, 1, 0, 0, 0, 0, 0, 0, 0, 0, 0, 0, 0, 0, 0],\r\n",
        "                      'Ter':  [0, 0, 0, 0, 0, 0, 0, 0, 1, 0, 0, 0, 0, 0, 0, 0, 0, 0, 0, 0, 0],\r\n",
        "                      'Ile':  [0, 0, 0, 0, 0, 0, 0, 0, 0, 1, 0, 0, 0, 0, 0, 0, 0, 0, 0, 0, 0],\r\n",
        "                      'Gln':  [0, 0, 0, 0, 0, 0, 0, 0, 0, 0, 1, 0, 0, 0, 0, 0, 0, 0, 0, 0, 0],\r\n",
        "                      'Gly':  [0, 0, 0, 0, 0, 0, 0, 0, 0, 0, 0, 1, 0, 0, 0, 0, 0, 0, 0, 0, 0],\r\n",
        "                      'Val':  [0, 0, 0, 0, 0, 0, 0, 0, 0, 0, 0, 0, 1, 0, 0, 0, 0, 0, 0, 0, 0],\r\n",
        "                      'Arg':  [0, 0, 0, 0, 0, 0, 0, 0, 0, 0, 0, 0, 0, 1, 0, 0, 0, 0, 0, 0, 0],\r\n",
        "                      'Thr':  [0, 0, 0, 0, 0, 0, 0, 0, 0, 0, 0, 0, 0, 0, 1, 0, 0, 0, 0, 0, 0],\r\n",
        "                      'Asn':  [0, 0, 0, 0, 0, 0, 0, 0, 0, 0, 0, 0, 0, 0, 0, 1, 0, 0, 0, 0, 0],\r\n",
        "                      'Phe':  [0, 0, 0, 0, 0, 0, 0, 0, 0, 0, 0, 0, 0, 0, 0, 0, 1, 0, 0, 0, 0],\r\n",
        "                      'Lys':  [0, 0, 0, 0, 0, 0, 0, 0, 0, 0, 0, 0, 0, 0, 0, 0, 0, 1, 0, 0, 0],\r\n",
        "                      'Ala':  [0, 0, 0, 0, 0, 0, 0, 0, 0, 0, 0, 0, 0, 0, 0, 0, 0, 0, 1, 0, 0],\r\n",
        "                      'Pro':  [0, 0, 0, 0, 0, 0, 0, 0, 0, 0, 0, 0, 0, 0, 0, 0, 0, 0, 0, 1, 0],\r\n",
        "                      'Glu':  [0, 0, 0, 0, 0, 0, 0, 0, 0, 0, 0, 0, 0, 0, 0, 0, 0, 0, 0, 0, 1]}\r\n",
        "\r\n",
        "\r\n",
        "protein_encoder = { \"ATG\" : \"M\",\r\n",
        "                    \"GAG\" : \"E\",\r\n",
        "                    \"CCG\" : \"P\",\r\n",
        "                    \"CAG\" : \"Q\",\r\n",
        "                    \"TCA\" : \"S\",\r\n",
        "                    \"GAT\" : \"D\",\r\n",
        "                    \"CCT\" : \"P\",\r\n",
        "                    \"AGC\" : \"S\",\r\n",
        "                    \"GTC\" : \"V\",\r\n",
        "                    \"CCC\" : \"P\",\r\n",
        "                    \"CTG\" : \"L\",\r\n",
        "                    \"AGT\" : \"S\",\r\n",
        "                    \"GAA\" : \"E\",\r\n",
        "                    \"ACA\" : \"T\",\r\n",
        "                    \"TTT\" : \"F\",\r\n",
        "                    \"GAC\" : \"D\",\r\n",
        "                    \"CTA\" : \"L\",\r\n",
        "                    \"TGG\" : \"W\",\r\n",
        "                    \"AAA\" : \"K\",\r\n",
        "                    \"CTT\" : \"L\",\r\n",
        "                    \"AAC\" : \"N\",\r\n",
        "                    \"GTT\" : \"V\",\r\n",
        "                    \"TCC\" : \"S\",\r\n",
        "                    \"TTG\" : \"L\",\r\n",
        "                    \"CAA\" : \"Q\",\r\n",
        "                    \"GCA\" : \"A\",\r\n",
        "                    \"ATT\" : \"I\",\r\n",
        "                    \"TTC\" : \"F\",\r\n",
        "                    \"ACT\" : \"T\",\r\n",
        "                    \"CCA\" : \"P\",\r\n",
        "                    \"GGT\" : \"G\",\r\n",
        "                    \"GCT\" : \"A\",\r\n",
        "                    \"AGA\" : \"R\",\r\n",
        "                    \"GAG\" : \"E\",\r\n",
        "                    \"GTG\" : \"V\",\r\n",
        "                    \"GCC\" : \"A\",\r\n",
        "                    \"GCG\" : \"A\",\r\n",
        "                    \"TCT\" : \"S\",\r\n",
        "                    \"ACC\" : \"T\",\r\n",
        "                    \"TAC\" : \"Y\",\r\n",
        "                    \"GGC\" : \"G\",\r\n",
        "                    \"CGT\" : \"R\",\r\n",
        "                    \"CTG\" : \"L\",\r\n",
        "                    \"CAT\" : \"H\",\r\n",
        "                    \"GGG\" : \"G\",\r\n",
        "                    \"AAG\" : \"K\",\r\n",
        "                    \"TGC\" : \"C\",\r\n",
        "                    \"ACG\" : \"T\",\r\n",
        "                    \"CTC\" : \"L\",\r\n",
        "                    \"CGC\" : \"R\",\r\n",
        "                    \"ATC\" : \"I\",\r\n",
        "                    \"CAC\" : \"H\",\r\n",
        "                    \"AGG\" : \"R\",\r\n",
        "                    \"CGA\" : \"R\",\r\n",
        "                    \"GGA\" : \"G\",\r\n",
        "                    \"AAT\" : \"N\",\r\n",
        "                    \"TAT\" : \"Y\",\r\n",
        "                    \"TGT\" : \"C\",\r\n",
        "                    \"CGG\" : \"R\",\r\n",
        "                    \"TGA\" : \"0\",\r\n",
        "\r\n",
        "                    \"TAA\" : \"0\",\r\n",
        "                    \"TAG\" : \"0\",\r\n",
        "                    \"ATA\" : \"I\",\r\n",
        "                    \"GTA\" : \"V\",\r\n",
        "                    \"TTA\" : \"L\",\r\n",
        "                    \"TCG\" : \"S\",\r\n",
        "                    \"000\" : \"0\"\r\n",
        "                    }\r\n",
        "\r\n",
        "\r\n",
        "stop_codons = ['TGA', 'TAA', 'TAG', '000']\r\n",
        "\r\n",
        "\r\n",
        "\r\n",
        "#seq is an iterable \r\n",
        "def one_hot_encoding(seq, encoder):\r\n",
        "  return [x for el in seq for x in encoder[el]]\r\n",
        "\r\n",
        "\r\n",
        "#ProtVec encoder\r\n",
        "def encode_protein(elem):\r\n",
        "  result = \"\"\r\n",
        "  for c in range(0, len(elem), 3):\r\n",
        "    if elem[c:c+3] in stop_codons:\r\n",
        "      continue\r\n",
        "    result += \"\".join( one_hot_encoding( [elem[c:c+3]], protein_encoder) )\r\n",
        "  return result\r\n",
        "\r\n",
        "\r\n",
        "\r\n",
        "#Codons\r\n",
        "codons = [one_hot_encoding(c, base_encoder) for c in codons]\r\n",
        "\r\n",
        "#Aminoacids, Mutant aminoacids\r\n",
        "aminoacids = [one_hot_encoding([a], aminoacid_encoder) for a in aminoacids]\r\n",
        "mutant_aminoacids = [one_hot_encoding([m_a], aminoacid_encoder) for m_a in mutant_aminoacids]\r\n",
        "\r\n",
        "#Event types\r\n",
        "event_types = [one_hot_encoding([t], evtype_encoder) for t in event_types]\r\n",
        "\r\n",
        "#Complexity\r\n",
        "complexities = [one_hot_encoding([c], complexity_encoder) for c in complexities]\r\n",
        "\r\n",
        "\r\n",
        "#binary representation of codon positions (array)\r\n",
        "positions = [list(map(int, \"{0:09b}\".format(pos))) for pos in positions]\r\n"
      ],
      "execution_count": null,
      "outputs": []
    },
    {
      "cell_type": "markdown",
      "metadata": {
        "id": "SuyGmxHg-OuA"
      },
      "source": [
        "**Input type 0**: \r\n",
        "\r\n",
        "> *codon || mutant_codon*\r\n",
        "\r\n"
      ]
    },
    {
      "cell_type": "markdown",
      "metadata": {
        "id": "m_5JlEzkjH5e"
      },
      "source": [
        "**Input type 1**:\r\n",
        "\r\n",
        "> *codon || mutant_codon || binary_position || aminoacid || mutant_aminoacid || type_of_event || complexity*\r\n",
        "\r\n"
      ]
    },
    {
      "cell_type": "markdown",
      "metadata": {
        "id": "liyCIdAtlBWn"
      },
      "source": [
        "**Input type 2**: \r\n",
        "\r\n",
        "> *left_adjacent_codons || mutant_codon || right_adjacent_codons*\r\n",
        "\r\n"
      ]
    },
    {
      "cell_type": "markdown",
      "metadata": {
        "id": "il-bB1vx9OVs"
      },
      "source": [
        "**Input type 3:**\r\n",
        "\r\n",
        "\r\n",
        "> *left_adjacent_codons || mutant_codon || right_adjacent_codons || aminoacid || mutant_aminoacid || type_of_event || complexity*\r\n",
        "\r\n"
      ]
    },
    {
      "cell_type": "markdown",
      "metadata": {
        "id": "bc-6piCb9pl3"
      },
      "source": [
        "**Input type 4** (2D):\r\n",
        "> *left_adjacent_codons || mutant_codon || right_adjacent_codons*"
      ]
    },
    {
      "cell_type": "markdown",
      "metadata": {
        "id": "ZYEJ9E5q-CqJ"
      },
      "source": [
        "**Input type 5:**\r\n",
        "\r\n",
        "\r\n",
        "> *for i in codon_subsequences :  freq_i in j for all j in diseases =  freq_00 || freq_01 || ... || freq_0j|| ... ||freq_i0 || ... || freq_ij*\r\n",
        "\r\n"
      ]
    },
    {
      "cell_type": "markdown",
      "metadata": {
        "id": "Uxvpmxnz_ZFh"
      },
      "source": [
        "**Input 6** (2D):\r\n",
        "> *for i in codon_subsequences :  freq_i in j for all j in diseases =  freq_00 || freq_01 || ... || freq_0j|| ... ||freq_i0 || ... || freq_ij*"
      ]
    },
    {
      "cell_type": "markdown",
      "metadata": {
        "id": "tGmHhyv2-FPf"
      },
      "source": [
        "**Input type 7**: (PROTVEC)\r\n",
        "\r\n",
        ">*for i in codon_sequence: Embedding(i) where Embedding(i) = Word2Vec(amino acid)*\r\n",
        "\r\n"
      ]
    },
    {
      "cell_type": "markdown",
      "metadata": {
        "id": "Ts5lH8_S2BJ1"
      },
      "source": [
        "**Simple and extended inputs**"
      ]
    },
    {
      "cell_type": "code",
      "metadata": {
        "id": "uN0NmMXHjKSy"
      },
      "source": [
        "\r\n",
        "# INPUT TYPE 0:     codon || mutant_codon\r\n",
        "INPUTS[SIMPLE_CODON] = [c for c in codons]\r\n",
        "\r\n",
        "# INPUT TYPE 1:     codon || mutant_codon || binary_position || aminoacid || mutant_aminoacid || type_of_event || complexity\r\n",
        "INPUTS[CODON_EXTENDED] = [c + p + a + m_a + t + cx for c, p, a, m_a, t, cx in zip(codons, positions, aminoacids, mutant_aminoacids, event_types, complexities)]\r\n",
        "\r\n",
        "\r\n",
        "#full set of labels\r\n",
        "LABELS[STD_LABELS_INT] = diseases\r\n"
      ],
      "execution_count": null,
      "outputs": []
    },
    {
      "cell_type": "markdown",
      "metadata": {
        "id": "9T5snWEJoc-p"
      },
      "source": [
        "**Sort inverted index and create blacklist**"
      ]
    },
    {
      "cell_type": "code",
      "metadata": {
        "id": "uk30pACZlR6I"
      },
      "source": [
        "PERCENTAGE = 0.8\r\n",
        "\r\n",
        "#For each disease sort subsequences by frequency in descending order\r\n",
        "for x in disease2subseq:   \r\n",
        "  disease2subseq[x] = dict(sorted(disease2subseq[x].items(), key=lambda x: x[1], reverse=True))  \r\n",
        "\r\n",
        "create_blacklist(PERCENTAGE)\r\n",
        "\r\n",
        "    "
      ],
      "execution_count": null,
      "outputs": []
    },
    {
      "cell_type": "markdown",
      "metadata": {
        "id": "vCLvL1_PozCO"
      },
      "source": [
        "**Create sequence inputs and filter inputs using blacklist**"
      ]
    },
    {
      "cell_type": "code",
      "metadata": {
        "id": "SPpDU7viozix"
      },
      "source": [
        "\r\n",
        "# Adds to inputs the codon sequence if at least 1 among its WINDOW_SIZE-long subsequences is in blacklist \r\n",
        "for c_id in range(len(codon2subseq)):\r\n",
        "  add = False\r\n",
        "  for s in codon2subseq[c_id]:\r\n",
        "    if s in blacklist:\r\n",
        "      add = True\r\n",
        "      break\r\n",
        "  \r\n",
        "  if add == True:\r\n",
        "\r\n",
        "    #INPUT TYPE 2: SEQUENCE FLAT\r\n",
        "    INPUTS[SEQUENCE_FLAT].append(one_hot_encoding(input_seqs[c_id], base_encoder))\r\n",
        "\r\n",
        "    #INPUT TYPE 3: SEQUENCE EXTENDED\r\n",
        "    INPUTS[SEQUENCE_EXTENDED].append(one_hot_encoding(input_seqs[c_id], base_encoder) + aminoacids[c_id] + mutant_aminoacids[c_id] + event_types[c_id] + complexities[c_id])\r\n",
        "\r\n",
        "    #INPUT TYPE 5: SEQUENCE FREQUENCE      \r\n",
        "    freqs = []\r\n",
        "    for s in codon2subseq[c_id]: \r\n",
        "      freqs += [disease2subseq[k][s] if s in disease2subseq[k] else 0 for k in range(len(target_labels))]\r\n",
        "\r\n",
        "    INPUTS[SEQUENCE_FREQ_FLAT].append(freqs)\r\n",
        "\r\n",
        "    \r\n",
        "    #INPUT TYPE 7: PROTVEC \r\n",
        "    INPUTS[PROTVEC].append(np.array(pv.to_vecs(encode_protein(input_seqs[c_id]))).flatten())\r\n",
        "\r\n",
        "    #filtered labels\r\n",
        "    LABELS[BLACKLIST_LABELS_INT].append(diseases[c_id])\r\n",
        "\r\n",
        "\r\n",
        "  "
      ],
      "execution_count": null,
      "outputs": []
    },
    {
      "cell_type": "markdown",
      "metadata": {
        "id": "rCYpOHZ7RfDM"
      },
      "source": [
        "**Parse inputs**"
      ]
    },
    {
      "cell_type": "code",
      "metadata": {
        "id": "K6dfL2EanF9w"
      },
      "source": [
        "#Label formats\r\n",
        "LABELS[STD_LABELS_VECT] = encode_labels(LABELS[STD_LABELS_INT])\r\n",
        "LABELS[BLACKLIST_LABELS_VECT] = encode_labels(LABELS[BLACKLIST_LABELS_INT])\r\n",
        "\r\n",
        "\r\n",
        "#Label types\r\n",
        "LABELS[STD_LABELS_INT] = np.array(LABELS[STD_LABELS_INT])\r\n",
        "LABELS[STD_LABELS_VECT] = np.array(LABELS[STD_LABELS_VECT])\r\n",
        "LABELS[BLACKLIST_LABELS_INT] = np.array(LABELS[BLACKLIST_LABELS_INT])\r\n",
        "LABELS[BLACKLIST_LABELS_VECT] = np.array(LABELS[BLACKLIST_LABELS_VECT])\r\n",
        "\r\n",
        "\r\n",
        "#Flat Input types\r\n",
        "INPUTS[SIMPLE_CODON] = np.array(INPUTS[SIMPLE_CODON])\r\n",
        "INPUTS[CODON_EXTENDED] = np.array(INPUTS[CODON_EXTENDED])\r\n",
        "INPUTS[SEQUENCE_EXTENDED] = np.array(INPUTS[SEQUENCE_EXTENDED])\r\n",
        "INPUTS[SEQUENCE_FLAT] = np.array(INPUTS[SEQUENCE_FLAT])\r\n",
        "INPUTS[SEQUENCE_FREQ_FLAT] = np.array(INPUTS[SEQUENCE_FREQ_FLAT])\r\n",
        "INPUTS[PROTVEC] = np.array(INPUTS[PROTVEC])\r\n",
        "\r\n",
        "\r\n",
        "#2D input types\r\n",
        "INPUTS[SEQUENCE_2D] = INPUTS[SEQUENCE_FLAT].reshape( (INPUTS[SEQUENCE_FLAT].shape[0], (WINDOW_SIZE*2-1)*3, 4 ) ) \r\n",
        "INPUTS[SEQUENCE_FREQ_2D] = INPUTS[SEQUENCE_FREQ_FLAT].reshape( (INPUTS[SEQUENCE_FREQ_FLAT].shape[0], len(target_labels), WINDOW_SIZE) )\r\n",
        "\r\n"
      ],
      "execution_count": null,
      "outputs": []
    },
    {
      "cell_type": "markdown",
      "metadata": {
        "id": "r6t6icZAv3It"
      },
      "source": [
        "#Split dataset"
      ]
    },
    {
      "cell_type": "code",
      "metadata": {
        "id": "qxN5ix9Vv6Qo"
      },
      "source": [
        "#Deterministic split\r\n",
        "SEED = 42\r\n",
        "\r\n",
        "\r\n",
        "#Input type 0:\r\n",
        "Xtrain, Xtest, ytrain, ytest = train_test_split(INPUTS[SIMPLE_CODON], LABELS[STD_LABELS_INT], \r\n",
        "                                                            train_size=0.7, random_state=SEED)\r\n",
        "Simple_input = [Xtrain, Xtest, ytrain, ytest]\r\n",
        "\r\n",
        "\r\n",
        "#Input type 1:\r\n",
        "Xtrain, Xtest, ytrain, ytest, ytrain_v, ytest_v = train_test_split(INPUTS[CODON_EXTENDED], LABELS[STD_LABELS_INT], \r\n",
        "                                                                 LABELS[STD_LABELS_VECT], train_size=0.7, random_state=SEED)\r\n",
        "Extended_input_int = [Xtrain, Xtest, ytrain, ytest]\r\n",
        "Extended_input_vec = [Xtrain, Xtest, ytrain_v, ytest_v]\r\n",
        "\r\n",
        "\r\n",
        "#Input type 2:\r\n",
        "Xtrain, Xtest, ytrain, ytest, ytrain_v, ytest_v = train_test_split(INPUTS[SEQUENCE_FLAT], LABELS[BLACKLIST_LABELS_INT], \r\n",
        "                                                                 LABELS[BLACKLIST_LABELS_VECT], train_size=0.7, random_state=SEED)\r\n",
        "subseqFlat_input_int = [Xtrain, Xtest, ytrain, ytest]\r\n",
        "subseqFlat_input_vec = [Xtrain, Xtest, ytrain_v, ytest_v]\r\n",
        "\r\n",
        "\r\n",
        "#Input type 3:\r\n",
        "Xtrain, Xtest, ytrain, ytest, ytrain_v, ytest_v = train_test_split(INPUTS[SEQUENCE_EXTENDED], LABELS[BLACKLIST_LABELS_INT], \r\n",
        "                                                                 LABELS[BLACKLIST_LABELS_VECT], train_size=0.7, random_state=SEED)\r\n",
        "subseqExtended_input_int = [Xtrain, Xtest, ytrain, ytest]\r\n",
        "subseqExtended_input_vec = [Xtrain, Xtest, ytrain_v, ytest_v]\r\n",
        "\r\n",
        "\r\n",
        "#Input type 4:\r\n",
        "Xtrain, Xtest, ytrain, ytest, ytrain_v, ytest_v = train_test_split(INPUTS[SEQUENCE_2D], LABELS[BLACKLIST_LABELS_INT], \r\n",
        "                                                                 LABELS[BLACKLIST_LABELS_VECT], train_size=0.7, random_state=SEED)\r\n",
        "subseq2D_input_int = [Xtrain, Xtest, ytrain, ytest]\r\n",
        "subseq2D_input_vec = [Xtrain, Xtest, ytrain_v, ytest_v]\r\n",
        "\r\n",
        "\r\n",
        "#Input type 5:\r\n",
        "Xtrain, Xtest, ytrain, ytest, ytrain_v, ytest_v = train_test_split(INPUTS[SEQUENCE_FREQ_FLAT], LABELS[BLACKLIST_LABELS_INT], \r\n",
        "                                                                 LABELS[BLACKLIST_LABELS_VECT], train_size=0.7, random_state=SEED)\r\n",
        "Freq_input_int = [Xtrain, Xtest, ytrain, ytest]\r\n",
        "Freq_input_vec = [Xtrain, Xtest, ytrain_v, ytest_v]\r\n",
        "\r\n",
        "\r\n",
        "#Input type 6:\r\n",
        "Xtrain, Xtest, ytrain, ytest, ytrain_v, ytest_v = train_test_split(INPUTS[SEQUENCE_FREQ_2D], LABELS[BLACKLIST_LABELS_INT], \r\n",
        "                                                                 LABELS[BLACKLIST_LABELS_VECT], train_size=0.7, random_state=SEED)\r\n",
        "freq2D_input_int = [Xtrain, Xtest, ytrain, ytest]\r\n",
        "freq2D_input_vec = [Xtrain, Xtest, ytrain_v, ytest_v]\r\n",
        "\r\n",
        "\r\n",
        "#Input type 7:\r\n",
        "Xtrain, Xtest, ytrain, ytest, ytrain_v, ytest_v = train_test_split(INPUTS[PROTVEC], LABELS[BLACKLIST_LABELS_INT], \r\n",
        "                                                                 LABELS[BLACKLIST_LABELS_VECT], train_size=0.7, random_state=SEED)\r\n",
        "protvec_input_int = [Xtrain, Xtest, ytrain, ytest]\r\n",
        "protvec_input_vec = [Xtrain, Xtest, ytrain_v, ytest_v]\r\n"
      ],
      "execution_count": null,
      "outputs": []
    },
    {
      "cell_type": "markdown",
      "metadata": {
        "id": "J3YMoAkHEz0P"
      },
      "source": [
        "#Balancing (Up-sampling)"
      ]
    },
    {
      "cell_type": "code",
      "metadata": {
        "id": "vNeNIsO-E2Zb"
      },
      "source": [
        "from imblearn.over_sampling import SMOTE\r\n",
        "\r\n",
        "BALANCE = True\r\n",
        "\r\n",
        "oversample = SMOTE()\r\n",
        "inputs = [ Simple_input, \r\n",
        "           Extended_input_int, Extended_input_vec,\r\n",
        "           subseqFlat_input_int, subseqFlat_input_vec, \r\n",
        "           subseqExtended_input_int, subseqExtended_input_vec, \r\n",
        "           Freq_input_int, Freq_input_vec,\r\n",
        "           protvec_input_int, protvec_input_vec ]\r\n",
        "\r\n",
        "\r\n",
        "\r\n",
        "for input in inputs:\r\n",
        "  input[0], input[2] = oversample.fit_resample(input[0], input[2])\r\n"
      ],
      "execution_count": null,
      "outputs": []
    },
    {
      "cell_type": "markdown",
      "metadata": {
        "id": "Zuv9eiAw0Otv"
      },
      "source": [
        "#Random forest classifier"
      ]
    },
    {
      "cell_type": "code",
      "metadata": {
        "id": "F5iE-ubo0RAf",
        "colab": {
          "base_uri": "https://localhost:8080/"
        },
        "outputId": "80c39a48-681c-490e-8bcb-6adb4e500f24"
      },
      "source": [
        "#Select Input\r\n",
        "selected_input = Freq_input_int\r\n",
        "Xtrain, Xtest, ytrain, ytest = [i for i in selected_input]\r\n",
        "\r\n",
        "\r\n",
        "parameters = {'bootstrap': True,\r\n",
        "              'min_samples_leaf': 6,\r\n",
        "              'n_estimators': 100, \r\n",
        "              'min_samples_split': 6,\r\n",
        "              'max_features': 'sqrt',\r\n",
        "              'max_leaf_nodes': None}\r\n",
        "\r\n",
        "\r\n",
        "#Model\r\n",
        "RF_model = RandomForestClassifier(**parameters)\r\n",
        "\r\n",
        "#Training\r\n",
        "RF_model.fit(Xtrain, ytrain)\r\n",
        "\r\n",
        "#Eval\r\n",
        "RF_predictions = RF_model.predict(Xtest)\r\n",
        "\r\n",
        "#Metrics \r\n",
        "ForestAccuracy = accuracy_score(ytest, RF_predictions)\r\n",
        "ForestRecall = recall_score(ytest, RF_predictions, average='macro')\r\n",
        "Forestprecision = precision_score(ytest, RF_predictions, average='macro')\r\n",
        "F1 = 2 * (Forestprecision*ForestRecall/(Forestprecision+ForestRecall))\r\n",
        "\r\n",
        "#Results\r\n",
        "Forest_result_string = '\\nRandom forest performance : \\n\\taccuracy = {:.5f}\\n\\trecall score = {:.5f}\\n\\tprecision = {:.5f}\\n\\tF1 = {:.5f}'\r\n",
        "print(Forest_result_string.format(ForestAccuracy,ForestRecall,Forestprecision, F1))\r\n"
      ],
      "execution_count": null,
      "outputs": [
        {
          "output_type": "stream",
          "text": [
            "\n",
            "Random forest performance : \n",
            "\taccuracy = 0.50357\n",
            "\trecall score = 0.47409\n",
            "\tprecision = 0.45221\n",
            "\tF1 = 0.46289\n"
          ],
          "name": "stdout"
        }
      ]
    },
    {
      "cell_type": "markdown",
      "metadata": {
        "id": "qg7YAdl4H0u9"
      },
      "source": [
        "# SVM"
      ]
    },
    {
      "cell_type": "code",
      "metadata": {
        "colab": {
          "base_uri": "https://localhost:8080/"
        },
        "id": "nUamkleUGyyJ",
        "outputId": "571d81b1-33ba-4f0d-b1b3-3193bd64d572"
      },
      "source": [
        "#Select Input\r\n",
        "selected_input = Freq_input_int\r\n",
        "Xtrain, Xtest, ytrain, ytest = [i for i in selected_input]\r\n",
        "\r\n",
        "#Model\r\n",
        "clf = SVC(C= 0.8, kernel='rbf', gamma='auto', max_iter=8000, verbose=False)\r\n",
        "\r\n",
        "#Training\r\n",
        "print('Fitting data into SVM. . .')\r\n",
        "clf.fit(Xtrain, ytrain)\r\n",
        "\r\n",
        "#Eval\r\n",
        "print('predicting results from SVM. . .')\r\n",
        "Result = clf.predict(Xtest)\r\n",
        "\r\n",
        "\r\n",
        "#Metrics\r\n",
        "SVMaccuracy = accuracy_score(ytest, Result)\r\n",
        "SVMRecallScore = recall_score(ytest, Result, average='macro')\r\n",
        "SVMprecision = precision_score(ytest, Result, average='macro')\r\n",
        "F1 = 2 * (SVMprecision*SVMRecallScore/(SVMprecision+SVMRecallScore))\r\n",
        "\r\n",
        "\r\n",
        "#Results\r\n",
        "SVM_result_string = '\\nSVM performance : \\n\\taccuracy = {:.5f}\\n\\trecall score = {:.5f}\\n\\tprecision = {:.5f}\\n\\tF1 = {:.5f}'\r\n",
        "print(SVM_result_string.format(SVMaccuracy,SVMRecallScore,SVMprecision, F1))\r\n"
      ],
      "execution_count": null,
      "outputs": [
        {
          "output_type": "stream",
          "text": [
            "Fitting data into SVM. . .\n",
            "predicting results from SVM. . .\n",
            "\n",
            "SVM performance : \n",
            "\taccuracy = 0.50508\n",
            "\trecall score = 0.48911\n",
            "\tprecision = 0.46088\n",
            "\tF1 = 0.47458\n"
          ],
          "name": "stdout"
        }
      ]
    },
    {
      "cell_type": "markdown",
      "metadata": {
        "id": "W-9xwTNY1Bbn"
      },
      "source": [
        "#Neural network models"
      ]
    },
    {
      "cell_type": "code",
      "metadata": {
        "id": "7ewG2nPczkUK"
      },
      "source": [
        "\r\n",
        "#Feed Forward Model\r\n",
        "def FFW(input_shape, num_classes, opt, met) :\r\n",
        "    model = keras.Sequential()\r\n",
        "\r\n",
        "    model.add(Dense(64, activation='relu', input_shape=input_shape))\r\n",
        "    model.add(BatchNormalization())\r\n",
        "  \r\n",
        "    model.add(Dense(64, activation='relu'))\r\n",
        "    model.add(Dropout(0.2))\r\n",
        "    model.add(BatchNormalization())\r\n",
        "\r\n",
        "    model.add(Dense(32, activation='relu'))\r\n",
        "    model.add(BatchNormalization())\r\n",
        "\r\n",
        "    model.add(Dense(16, activation='relu'))\r\n",
        "    model.add(BatchNormalization())\r\n",
        "\r\n",
        "    model.add(Dense(num_classes, activation='softmax'))\r\n",
        "\r\n",
        "    # Compile\r\n",
        "    model.compile(loss='categorical_crossentropy', optimizer=opt, metrics=met)\r\n",
        "\r\n",
        "    return model\r\n",
        "    \r\n",
        "\r\n",
        "#CNN Model\r\n",
        "def CNN(input_shape, num_classes, opt, met) :\r\n",
        "    model = keras.Sequential()\r\n",
        "\r\n",
        "    model.add(Conv1D(64, kernel_size=1, activation='sigmoid',\r\n",
        "                     strides=1, input_shape=input_shape))\r\n",
        "\r\n",
        "    model.add(Conv1D(128, kernel_size=2, activation='relu', strides=2))\r\n",
        "    model.add(MaxPooling1D(pool_size=2, strides=1))\r\n",
        "    model.add(BatchNormalization())\r\n",
        "    \r\n",
        "    model.add(Flatten())\r\n",
        "\r\n",
        "    model.add(Dense(64, activation='relu'))\r\n",
        "    model.add(Dropout(0.3))\r\n",
        "    model.add(BatchNormalization())\r\n",
        "  \r\n",
        "    model.add(Dense(64, activation='relu'))\r\n",
        "    model.add(Dropout(0.2))\r\n",
        "    model.add(BatchNormalization())\r\n",
        "\r\n",
        "    model.add(Dense(32, activation='relu'))\r\n",
        "    model.add(Dropout(0.2))\r\n",
        "    model.add(BatchNormalization())\r\n",
        "\r\n",
        "    model.add(Dense(num_classes, activation='softmax'))\r\n",
        "    \r\n",
        "    # Compile\r\n",
        "    model.compile(loss='categorical_crossentropy', optimizer=opt, metrics=met)\r\n",
        "    \r\n",
        "    return model\r\n",
        "\r\n",
        "\r\n",
        "\r\n",
        "#LSTM Model\r\n",
        "def LSTM_net(input_shape, num_classes, opt, met) :\r\n",
        "    model = keras.Sequential()\r\n",
        "\r\n",
        "    model.add(Bidirectional(LSTM(64, return_sequences=True,\r\n",
        "                                 dropout=0.1, recurrent_dropout=0.2), \r\n",
        "                            input_shape=input_shape))\r\n",
        "\r\n",
        "    model.add(Bidirectional(LSTM(32)))\r\n",
        "\r\n",
        "    model.add(Dense(32, activation='relu'))\r\n",
        "    model.add(Dropout(0.2))\r\n",
        "    model.add(BatchNormalization())\r\n",
        "\r\n",
        "    model.add(Dense(16, activation='relu'))\r\n",
        "    model.add(Dropout(0.2))\r\n",
        "    model.add(BatchNormalization())\r\n",
        "\r\n",
        "    model.add(Dense(num_classes, activation='softmax'))\r\n",
        "    \r\n",
        "    # Compile\r\n",
        "    model.compile(loss='categorical_crossentropy', optimizer=opt, metrics=met)\r\n",
        "    \r\n",
        "    return model"
      ],
      "execution_count": null,
      "outputs": []
    },
    {
      "cell_type": "markdown",
      "metadata": {
        "id": "WeCx1a4Pz0jh"
      },
      "source": [
        "#FFW Training and evaluation"
      ]
    },
    {
      "cell_type": "code",
      "metadata": {
        "id": "LMNAWt7fz2V4",
        "colab": {
          "base_uri": "https://localhost:8080/"
        },
        "outputId": "ca9004c9-10cf-4eb9-8bbd-3b95556e299b"
      },
      "source": [
        "#Opt and metrics\r\n",
        "optimizer = Adamax(learning_rate=0.002, beta_1=0.9, beta_2=0.9, epsilon=1e-06, name=\"Adamax\")\r\n",
        "metrics = [CategoricalAccuracy(), Precision(), Recall()]\r\n",
        "\r\n",
        "\r\n",
        "#Select Input \r\n",
        "selected_input = Freq_input_vec\r\n",
        "Xtrain, Xtest, ytrain, ytest = [i for i in selected_input]\r\n",
        "\r\n",
        "\r\n",
        "#FFW training\r\n",
        "ffw = FFW(Xtrain[0].shape, len(target_labels), optimizer, metrics)\r\n",
        "ffw.summary()\r\n",
        "ffw.fit(Xtrain, ytrain, batch_size=32, epochs=15, validation_split=0.2)\r\n",
        "print('\\n')\r\n",
        "\r\n",
        "\r\n",
        "#FFW eval\r\n",
        "score = ffw.evaluate(Xtest, ytest)\r\n",
        "\r\n",
        "\r\n",
        "#Metrics\r\n",
        "loss, accuracy, precision, recall = [x for x in score]\r\n",
        "F1 = 2 * (precision*recall/(precision+recall))\r\n",
        "\r\n",
        "\r\n",
        "#Results\r\n",
        "res = \"loss : {:.5f}\\naccuracy : {:.5f}\\nprecision : {:.5f}\\nrecall : {:.5f}\\nF1 : {:.5f}\\n\"\r\n",
        "print(\"FFW results:\")\r\n",
        "print(res.format(loss,accuracy,precision,recall,F1))\r\n",
        "\r\n"
      ],
      "execution_count": null,
      "outputs": [
        {
          "output_type": "stream",
          "text": [
            "Model: \"sequential\"\n",
            "_________________________________________________________________\n",
            "Layer (type)                 Output Shape              Param #   \n",
            "=================================================================\n",
            "dense (Dense)                (None, 64)                1664      \n",
            "_________________________________________________________________\n",
            "batch_normalization (BatchNo (None, 64)                256       \n",
            "_________________________________________________________________\n",
            "dense_1 (Dense)              (None, 64)                4160      \n",
            "_________________________________________________________________\n",
            "dropout (Dropout)            (None, 64)                0         \n",
            "_________________________________________________________________\n",
            "batch_normalization_1 (Batch (None, 64)                256       \n",
            "_________________________________________________________________\n",
            "dense_2 (Dense)              (None, 32)                2080      \n",
            "_________________________________________________________________\n",
            "batch_normalization_2 (Batch (None, 32)                128       \n",
            "_________________________________________________________________\n",
            "dense_3 (Dense)              (None, 16)                528       \n",
            "_________________________________________________________________\n",
            "batch_normalization_3 (Batch (None, 16)                64        \n",
            "_________________________________________________________________\n",
            "dense_4 (Dense)              (None, 5)                 85        \n",
            "=================================================================\n",
            "Total params: 9,221\n",
            "Trainable params: 8,869\n",
            "Non-trainable params: 352\n",
            "_________________________________________________________________\n",
            "Epoch 1/15\n",
            "715/715 [==============================] - 4s 3ms/step - loss: 1.4275 - categorical_accuracy: 0.4292 - precision: 0.6122 - recall: 0.2026 - val_loss: 1.9248 - val_categorical_accuracy: 0.2647 - val_precision: 0.7965 - val_recall: 0.2330\n",
            "Epoch 2/15\n",
            "715/715 [==============================] - 2s 2ms/step - loss: 1.2477 - categorical_accuracy: 0.4994 - precision: 0.6501 - recall: 0.2840 - val_loss: 1.8954 - val_categorical_accuracy: 0.3177 - val_precision: 0.7338 - val_recall: 0.2480\n",
            "Epoch 3/15\n",
            "715/715 [==============================] - 2s 2ms/step - loss: 1.2212 - categorical_accuracy: 0.5046 - precision: 0.6460 - recall: 0.2977 - val_loss: 1.9499 - val_categorical_accuracy: 0.3128 - val_precision: 0.5855 - val_recall: 0.2433\n",
            "Epoch 4/15\n",
            "715/715 [==============================] - 2s 2ms/step - loss: 1.2129 - categorical_accuracy: 0.5082 - precision: 0.6445 - recall: 0.3055 - val_loss: 1.9659 - val_categorical_accuracy: 0.3273 - val_precision: 0.5586 - val_recall: 0.2421\n",
            "Epoch 5/15\n",
            "715/715 [==============================] - 2s 2ms/step - loss: 1.1931 - categorical_accuracy: 0.5111 - precision: 0.6442 - recall: 0.3140 - val_loss: 1.8220 - val_categorical_accuracy: 0.2860 - val_precision: 0.4938 - val_recall: 0.2423\n",
            "Epoch 6/15\n",
            "715/715 [==============================] - 1s 2ms/step - loss: 1.1917 - categorical_accuracy: 0.5176 - precision: 0.6498 - recall: 0.3233 - val_loss: 1.9919 - val_categorical_accuracy: 0.3175 - val_precision: 0.5664 - val_recall: 0.2517\n",
            "Epoch 7/15\n",
            "715/715 [==============================] - 2s 2ms/step - loss: 1.1893 - categorical_accuracy: 0.5117 - precision: 0.6439 - recall: 0.3101 - val_loss: 1.8787 - val_categorical_accuracy: 0.3023 - val_precision: 0.5492 - val_recall: 0.2568\n",
            "Epoch 8/15\n",
            "715/715 [==============================] - 2s 2ms/step - loss: 1.1846 - categorical_accuracy: 0.5194 - precision: 0.6502 - recall: 0.3206 - val_loss: 1.9402 - val_categorical_accuracy: 0.3128 - val_precision: 0.5070 - val_recall: 0.2356\n",
            "Epoch 9/15\n",
            "715/715 [==============================] - 2s 2ms/step - loss: 1.1708 - categorical_accuracy: 0.5223 - precision: 0.6538 - recall: 0.3243 - val_loss: 1.7205 - val_categorical_accuracy: 0.3296 - val_precision: 0.6260 - val_recall: 0.2575\n",
            "Epoch 10/15\n",
            "715/715 [==============================] - 1s 2ms/step - loss: 1.1741 - categorical_accuracy: 0.5158 - precision: 0.6541 - recall: 0.3069 - val_loss: 1.8294 - val_categorical_accuracy: 0.3203 - val_precision: 0.5080 - val_recall: 0.2661\n",
            "Epoch 11/15\n",
            "715/715 [==============================] - 2s 2ms/step - loss: 1.1757 - categorical_accuracy: 0.5210 - precision: 0.6400 - recall: 0.3180 - val_loss: 1.8571 - val_categorical_accuracy: 0.3291 - val_precision: 0.5278 - val_recall: 0.2689\n",
            "Epoch 12/15\n",
            "715/715 [==============================] - 2s 2ms/step - loss: 1.1643 - categorical_accuracy: 0.5280 - precision: 0.6511 - recall: 0.3311 - val_loss: 1.7143 - val_categorical_accuracy: 0.3319 - val_precision: 0.6661 - val_recall: 0.2661\n",
            "Epoch 13/15\n",
            "715/715 [==============================] - 1s 2ms/step - loss: 1.1604 - categorical_accuracy: 0.5278 - precision: 0.6652 - recall: 0.3186 - val_loss: 1.7180 - val_categorical_accuracy: 0.3438 - val_precision: 0.5435 - val_recall: 0.2638\n",
            "Epoch 14/15\n",
            "715/715 [==============================] - 2s 2ms/step - loss: 1.1696 - categorical_accuracy: 0.5204 - precision: 0.6506 - recall: 0.3277 - val_loss: 1.7447 - val_categorical_accuracy: 0.3518 - val_precision: 0.5947 - val_recall: 0.2655\n",
            "Epoch 15/15\n",
            "715/715 [==============================] - 2s 2ms/step - loss: 1.1678 - categorical_accuracy: 0.5220 - precision: 0.6596 - recall: 0.3162 - val_loss: 1.7551 - val_categorical_accuracy: 0.3277 - val_precision: 0.5713 - val_recall: 0.2694\n",
            "\n",
            "\n",
            "206/206 [==============================] - 0s 1ms/step - loss: 1.1824 - categorical_accuracy: 0.5406 - precision: 0.7065 - recall: 0.3310\n",
            "FFW results:\n",
            "loss : 1.18242\n",
            "accuracy : 0.54060\n",
            "precision : 0.70651\n",
            "recall : 0.33101\n",
            "F1 : 0.45081\n",
            "\n"
          ],
          "name": "stdout"
        }
      ]
    },
    {
      "cell_type": "markdown",
      "metadata": {
        "id": "aUfIuaZaz8GQ"
      },
      "source": [
        "#CNN Training and Evaluation"
      ]
    },
    {
      "cell_type": "code",
      "metadata": {
        "id": "8qDt5JXkz9Si",
        "colab": {
          "base_uri": "https://localhost:8080/"
        },
        "outputId": "f214d2a6-30c8-4222-9c28-fa709c03d18d"
      },
      "source": [
        "#Opt and metrics\r\n",
        "optimizer = Adamax(learning_rate=0.002, beta_1=0.9, beta_2=0.9, epsilon=1e-06, name=\"Adamax\")\r\n",
        "metrics = [CategoricalAccuracy(), Precision(), Recall()]\r\n",
        "\r\n",
        "\r\n",
        "#Select Input \r\n",
        "is_Frequence = False\r\n",
        "selected_input = subseq2D_input_vec\r\n",
        "Xtrain, Xtest, ytrain, ytest = [i for i in selected_input]\r\n",
        "\r\n",
        "\r\n",
        "#Check for balanced input\r\n",
        "if BALANCE :\r\n",
        "  #Check input type\r\n",
        "  if is_Frequence :\r\n",
        "    Xtrain = Freq_input_vec[0].reshape( (Freq_input_vec[0].shape[0], len(target_labels), WINDOW_SIZE) )\r\n",
        "    ytrain = Freq_input_vec[2]\r\n",
        "  else : \r\n",
        "    Xtrain = subseqFlat_input_vec[0].reshape( (subseqFlat_input_vec[0].shape[0], (WINDOW_SIZE*2-1)*3, 4) )\r\n",
        "    ytrain = subseqFlat_input_vec[2]\r\n",
        "\r\n",
        "\r\n",
        "#CNN training\r\n",
        "cnn = CNN(Xtrain[0].shape, len(target_labels), optimizer, metrics)\r\n",
        "cnn.summary()\r\n",
        "cnn.fit(x=Xtrain, y=ytrain, batch_size=32, epochs=20, validation_split=0.2)\r\n",
        "print('\\n')\r\n",
        "\r\n",
        "\r\n",
        "#CNN eval\r\n",
        "score = cnn.evaluate(Xtest, ytest)\r\n",
        "\r\n",
        "\r\n",
        "#Metrics\r\n",
        "loss, accuracy, precision, recall = [x for x in score]\r\n",
        "F1 = 2 * (precision*recall/(precision+recall))\r\n",
        "\r\n",
        "\r\n",
        "#Results\r\n",
        "res = \"loss : {:.5f}\\naccuracy : {:.5f}\\nprecision : {:.5f}\\nrecall : {:.5f}\\nF1 : {:.5f}\\n\"\r\n",
        "print(\"CNN results:\")\r\n",
        "print(res.format(loss,accuracy,precision,recall,F1))\r\n",
        "\r\n"
      ],
      "execution_count": null,
      "outputs": [
        {
          "output_type": "stream",
          "text": [
            "Model: \"sequential_4\"\n",
            "_________________________________________________________________\n",
            "Layer (type)                 Output Shape              Param #   \n",
            "=================================================================\n",
            "conv1d_6 (Conv1D)            (None, 27, 64)            320       \n",
            "_________________________________________________________________\n",
            "conv1d_7 (Conv1D)            (None, 13, 128)           16512     \n",
            "_________________________________________________________________\n",
            "max_pooling1d_3 (MaxPooling1 (None, 12, 128)           0         \n",
            "_________________________________________________________________\n",
            "batch_normalization_14 (Batc (None, 12, 128)           512       \n",
            "_________________________________________________________________\n",
            "flatten_3 (Flatten)          (None, 1536)              0         \n",
            "_________________________________________________________________\n",
            "dense_15 (Dense)             (None, 64)                98368     \n",
            "_________________________________________________________________\n",
            "dropout_11 (Dropout)         (None, 64)                0         \n",
            "_________________________________________________________________\n",
            "batch_normalization_15 (Batc (None, 64)                256       \n",
            "_________________________________________________________________\n",
            "dense_16 (Dense)             (None, 64)                4160      \n",
            "_________________________________________________________________\n",
            "dropout_12 (Dropout)         (None, 64)                0         \n",
            "_________________________________________________________________\n",
            "batch_normalization_16 (Batc (None, 64)                256       \n",
            "_________________________________________________________________\n",
            "dense_17 (Dense)             (None, 32)                2080      \n",
            "_________________________________________________________________\n",
            "dropout_13 (Dropout)         (None, 32)                0         \n",
            "_________________________________________________________________\n",
            "batch_normalization_17 (Batc (None, 32)                128       \n",
            "_________________________________________________________________\n",
            "dense_18 (Dense)             (None, 5)                 165       \n",
            "=================================================================\n",
            "Total params: 122,757\n",
            "Trainable params: 122,181\n",
            "Non-trainable params: 576\n",
            "_________________________________________________________________\n",
            "Epoch 1/20\n",
            "715/715 [==============================] - 8s 9ms/step - loss: 1.6288 - categorical_accuracy: 0.3092 - precision_6: 0.4030 - recall_6: 0.0897 - val_loss: 2.3684 - val_categorical_accuracy: 0.2515 - val_precision_6: 0.5373 - val_recall_6: 0.2330\n",
            "Epoch 2/20\n",
            "715/715 [==============================] - 6s 9ms/step - loss: 1.3631 - categorical_accuracy: 0.4271 - precision_6: 0.5827 - recall_6: 0.1353 - val_loss: 3.0055 - val_categorical_accuracy: 0.2612 - val_precision_6: 0.4185 - val_recall_6: 0.2277\n",
            "Epoch 3/20\n",
            "715/715 [==============================] - 6s 9ms/step - loss: 1.3231 - categorical_accuracy: 0.4504 - precision_6: 0.5944 - recall_6: 0.1678 - val_loss: 3.5135 - val_categorical_accuracy: 0.2489 - val_precision_6: 0.3941 - val_recall_6: 0.2179\n",
            "Epoch 4/20\n",
            "715/715 [==============================] - 6s 9ms/step - loss: 1.3046 - categorical_accuracy: 0.4652 - precision_6: 0.6045 - recall_6: 0.1793 - val_loss: 3.2852 - val_categorical_accuracy: 0.2636 - val_precision_6: 0.3478 - val_recall_6: 0.2270\n",
            "Epoch 5/20\n",
            "715/715 [==============================] - 6s 9ms/step - loss: 1.2963 - categorical_accuracy: 0.4715 - precision_6: 0.6017 - recall_6: 0.2117 - val_loss: 2.7482 - val_categorical_accuracy: 0.2678 - val_precision_6: 0.3957 - val_recall_6: 0.2318\n",
            "Epoch 6/20\n",
            "715/715 [==============================] - 7s 9ms/step - loss: 1.3029 - categorical_accuracy: 0.4667 - precision_6: 0.5948 - recall_6: 0.1917 - val_loss: 2.8533 - val_categorical_accuracy: 0.5218 - val_precision_6: 0.5998 - val_recall_6: 0.5055\n",
            "Epoch 7/20\n",
            "715/715 [==============================] - 7s 9ms/step - loss: 1.2787 - categorical_accuracy: 0.4786 - precision_6: 0.6158 - recall_6: 0.2254 - val_loss: 3.0453 - val_categorical_accuracy: 0.2825 - val_precision_6: 0.3971 - val_recall_6: 0.2358\n",
            "Epoch 8/20\n",
            "715/715 [==============================] - 7s 9ms/step - loss: 1.2839 - categorical_accuracy: 0.4736 - precision_6: 0.6060 - recall_6: 0.2090 - val_loss: 2.8190 - val_categorical_accuracy: 0.2944 - val_precision_6: 0.3670 - val_recall_6: 0.2409\n",
            "Epoch 9/20\n",
            "715/715 [==============================] - 6s 9ms/step - loss: 1.2768 - categorical_accuracy: 0.4777 - precision_6: 0.5985 - recall_6: 0.2118 - val_loss: 2.7899 - val_categorical_accuracy: 0.2668 - val_precision_6: 0.3809 - val_recall_6: 0.2340\n",
            "Epoch 10/20\n",
            "715/715 [==============================] - 6s 9ms/step - loss: 1.2637 - categorical_accuracy: 0.4904 - precision_6: 0.6146 - recall_6: 0.2299 - val_loss: 2.8608 - val_categorical_accuracy: 0.3116 - val_precision_6: 0.4550 - val_recall_6: 0.2592\n",
            "Epoch 11/20\n",
            "715/715 [==============================] - 6s 9ms/step - loss: 1.2687 - categorical_accuracy: 0.4842 - precision_6: 0.6238 - recall_6: 0.2267 - val_loss: 2.9090 - val_categorical_accuracy: 0.2746 - val_precision_6: 0.4161 - val_recall_6: 0.2321\n",
            "Epoch 12/20\n",
            "715/715 [==============================] - 6s 9ms/step - loss: 1.2685 - categorical_accuracy: 0.4810 - precision_6: 0.6098 - recall_6: 0.2242 - val_loss: 2.6953 - val_categorical_accuracy: 0.2648 - val_precision_6: 0.4267 - val_recall_6: 0.2337\n",
            "Epoch 13/20\n",
            "715/715 [==============================] - 6s 9ms/step - loss: 1.2593 - categorical_accuracy: 0.4866 - precision_6: 0.6232 - recall_6: 0.2380 - val_loss: 2.8809 - val_categorical_accuracy: 0.2872 - val_precision_6: 0.3938 - val_recall_6: 0.2428\n",
            "Epoch 14/20\n",
            "715/715 [==============================] - 6s 9ms/step - loss: 1.2524 - categorical_accuracy: 0.4949 - precision_6: 0.6283 - recall_6: 0.2423 - val_loss: 2.8088 - val_categorical_accuracy: 0.2741 - val_precision_6: 0.3909 - val_recall_6: 0.2295\n",
            "Epoch 15/20\n",
            "715/715 [==============================] - 6s 9ms/step - loss: 1.2579 - categorical_accuracy: 0.4907 - precision_6: 0.6211 - recall_6: 0.2438 - val_loss: 2.9683 - val_categorical_accuracy: 0.2939 - val_precision_6: 0.3992 - val_recall_6: 0.2393\n",
            "Epoch 16/20\n",
            "715/715 [==============================] - 6s 9ms/step - loss: 1.2467 - categorical_accuracy: 0.4957 - precision_6: 0.6257 - recall_6: 0.2532 - val_loss: 3.0062 - val_categorical_accuracy: 0.3067 - val_precision_6: 0.4520 - val_recall_6: 0.2440\n",
            "Epoch 17/20\n",
            "715/715 [==============================] - 7s 9ms/step - loss: 1.2540 - categorical_accuracy: 0.4931 - precision_6: 0.6348 - recall_6: 0.2416 - val_loss: 2.9296 - val_categorical_accuracy: 0.3305 - val_precision_6: 0.4475 - val_recall_6: 0.2633\n",
            "Epoch 18/20\n",
            "715/715 [==============================] - 6s 9ms/step - loss: 1.2444 - categorical_accuracy: 0.5020 - precision_6: 0.6312 - recall_6: 0.2663 - val_loss: 2.7533 - val_categorical_accuracy: 0.2956 - val_precision_6: 0.4249 - val_recall_6: 0.2347\n",
            "Epoch 19/20\n",
            "715/715 [==============================] - 6s 9ms/step - loss: 1.2523 - categorical_accuracy: 0.4964 - precision_6: 0.6220 - recall_6: 0.2479 - val_loss: 2.9693 - val_categorical_accuracy: 0.3107 - val_precision_6: 0.4169 - val_recall_6: 0.2690\n",
            "Epoch 20/20\n",
            "715/715 [==============================] - 6s 9ms/step - loss: 1.2485 - categorical_accuracy: 0.4962 - precision_6: 0.6317 - recall_6: 0.2595 - val_loss: 2.8148 - val_categorical_accuracy: 0.2956 - val_precision_6: 0.4275 - val_recall_6: 0.2606\n",
            "\n",
            "\n",
            "206/206 [==============================] - 1s 3ms/step - loss: 1.2937 - categorical_accuracy: 0.5210 - precision_6: 0.6729 - recall_6: 0.2826\n",
            "CNN results:\n",
            "loss : 1.29374\n",
            "accuracy : 0.52102\n",
            "precision : 0.67293\n",
            "recall : 0.28259\n",
            "F1 : 0.39803\n",
            "\n"
          ],
          "name": "stdout"
        }
      ]
    },
    {
      "cell_type": "markdown",
      "metadata": {
        "id": "qxPDV-cpXixU"
      },
      "source": [
        "#LSTM Training and evaluation"
      ]
    },
    {
      "cell_type": "code",
      "metadata": {
        "id": "iqNYiBn6Xlns",
        "colab": {
          "base_uri": "https://localhost:8080/"
        },
        "outputId": "81b8931a-6f78-4466-d8a6-6af8fc4e4c8b"
      },
      "source": [
        "#Opt and metrics\r\n",
        "optimizer = Adamax(learning_rate=0.002, beta_1=0.9, beta_2=0.9, epsilon=1e-06, name=\"Adamax\")\r\n",
        "metrics = [CategoricalAccuracy(), Precision(), Recall()]\r\n",
        "\r\n",
        "\r\n",
        "#Select Input \r\n",
        "is_Frequence = False\r\n",
        "selected_input = subseq2D_input_vec\r\n",
        "Xtrain, Xtest, ytrain, ytest = [i for i in selected_input]\r\n",
        "\r\n",
        "#Check for balanced input\r\n",
        "if BALANCE :\r\n",
        "  #Check input type\r\n",
        "  if is_Frequence :\r\n",
        "    Xtrain = Freq_input_vec[0].reshape( (Freq_input_vec[0].shape[0], len(target_labels), WINDOW_SIZE) )\r\n",
        "    ytrain = Freq_input_vec[2]\r\n",
        "  else : \r\n",
        "    Xtrain = subseqFlat_input_vec[0].reshape( (subseqFlat_input_vec[0].shape[0], (WINDOW_SIZE*2-1)*3, 4) )\r\n",
        "    ytrain = subseqFlat_input_vec[2]\r\n",
        "\r\n",
        "\r\n",
        "#LSTM training\r\n",
        "lstm = LSTM_net(Xtrain[0].shape, len(target_labels), optimizer, metrics)\r\n",
        "lstm.summary()\r\n",
        "lstm.fit(x=Xtrain, y=ytrain, batch_size=32, epochs=8, validation_split=0.2)\r\n",
        "print('\\n')\r\n",
        "\r\n",
        "\r\n",
        "#LSTM eval\r\n",
        "score = lstm.evaluate(Xtest, ytest)\r\n",
        "\r\n",
        "\r\n",
        "#Metrics\r\n",
        "loss, accuracy, precision, recall = [x for x in score]\r\n",
        "F1 = 2 * (precision*recall/(precision+recall))\r\n",
        "\r\n",
        "\r\n",
        "#Results\r\n",
        "res = \"loss : {:.5f}\\naccuracy : {:.5f}\\nprecision : {:.5f}\\nrecall : {:.5f}\\nF1 : {:.5f}\\n\"\r\n",
        "print(\"LSTM results:\")\r\n",
        "print(res.format(loss,accuracy,precision,recall,F1))\r\n"
      ],
      "execution_count": null,
      "outputs": [
        {
          "output_type": "stream",
          "text": [
            "Model: \"sequential_5\"\n",
            "_________________________________________________________________\n",
            "Layer (type)                 Output Shape              Param #   \n",
            "=================================================================\n",
            "bidirectional_2 (Bidirection (None, 27, 128)           35328     \n",
            "_________________________________________________________________\n",
            "bidirectional_3 (Bidirection (None, 64)                41216     \n",
            "_________________________________________________________________\n",
            "dense_19 (Dense)             (None, 32)                2080      \n",
            "_________________________________________________________________\n",
            "dropout_14 (Dropout)         (None, 32)                0         \n",
            "_________________________________________________________________\n",
            "batch_normalization_18 (Batc (None, 32)                128       \n",
            "_________________________________________________________________\n",
            "dense_20 (Dense)             (None, 16)                528       \n",
            "_________________________________________________________________\n",
            "dropout_15 (Dropout)         (None, 16)                0         \n",
            "_________________________________________________________________\n",
            "batch_normalization_19 (Batc (None, 16)                64        \n",
            "_________________________________________________________________\n",
            "dense_21 (Dense)             (None, 5)                 85        \n",
            "=================================================================\n",
            "Total params: 79,429\n",
            "Trainable params: 79,333\n",
            "Non-trainable params: 96\n",
            "_________________________________________________________________\n",
            "Epoch 1/8\n",
            "715/715 [==============================] - 68s 84ms/step - loss: 1.6900 - categorical_accuracy: 0.2665 - precision_7: 0.2827 - recall_7: 0.0426 - val_loss: 2.6988 - val_categorical_accuracy: 0.0270 - val_precision_7: 0.0000e+00 - val_recall_7: 0.0000e+00\n",
            "Epoch 2/8\n",
            "715/715 [==============================] - 58s 82ms/step - loss: 1.4545 - categorical_accuracy: 0.3501 - precision_7: 0.5638 - recall_7: 0.0540 - val_loss: 2.1510 - val_categorical_accuracy: 0.2353 - val_precision_7: 0.7951 - val_recall_7: 0.2351\n",
            "Epoch 3/8\n",
            "715/715 [==============================] - 58s 81ms/step - loss: 1.4295 - categorical_accuracy: 0.3764 - precision_7: 0.5604 - recall_7: 0.0626 - val_loss: 2.2764 - val_categorical_accuracy: 0.2347 - val_precision_7: 0.6118 - val_recall_7: 0.2232\n",
            "Epoch 4/8\n",
            "715/715 [==============================] - 59s 82ms/step - loss: 1.4103 - categorical_accuracy: 0.3889 - precision_7: 0.5700 - recall_7: 0.0826 - val_loss: 2.2146 - val_categorical_accuracy: 0.2234 - val_precision_7: 0.5728 - val_recall_7: 0.2232\n",
            "Epoch 5/8\n",
            "715/715 [==============================] - 59s 82ms/step - loss: 1.3956 - categorical_accuracy: 0.4039 - precision_7: 0.5877 - recall_7: 0.1037 - val_loss: 2.2309 - val_categorical_accuracy: 0.2353 - val_precision_7: 0.6001 - val_recall_7: 0.2314\n",
            "Epoch 6/8\n",
            "715/715 [==============================] - 59s 82ms/step - loss: 1.3904 - categorical_accuracy: 0.4122 - precision_7: 0.5924 - recall_7: 0.1100 - val_loss: 2.2235 - val_categorical_accuracy: 0.2232 - val_precision_7: 0.5585 - val_recall_7: 0.2232\n",
            "Epoch 7/8\n",
            "715/715 [==============================] - 59s 83ms/step - loss: 1.3662 - categorical_accuracy: 0.4250 - precision_7: 0.5866 - recall_7: 0.1196 - val_loss: 2.2390 - val_categorical_accuracy: 0.2374 - val_precision_7: 0.5008 - val_recall_7: 0.2232\n",
            "Epoch 8/8\n",
            "715/715 [==============================] - 60s 83ms/step - loss: 1.3650 - categorical_accuracy: 0.4320 - precision_7: 0.5955 - recall_7: 0.1396 - val_loss: 2.2362 - val_categorical_accuracy: 0.2402 - val_precision_7: 0.5340 - val_recall_7: 0.2312\n",
            "\n",
            "\n",
            "206/206 [==============================] - 3s 14ms/step - loss: 1.3464 - categorical_accuracy: 0.4948 - precision_7: 0.6842 - recall_7: 0.1542\n",
            "LSTM results:\n",
            "loss : 1.34640\n",
            "accuracy : 0.49476\n",
            "precision : 0.68418\n",
            "recall : 0.15420\n",
            "F1 : 0.25167\n",
            "\n"
          ],
          "name": "stdout"
        }
      ]
    },
    {
      "cell_type": "markdown",
      "metadata": {
        "id": "uawlnKKAxmYe"
      },
      "source": [
        "# Results\r\n",
        "\r\n",
        "\r\n"
      ]
    },
    {
      "cell_type": "code",
      "metadata": {
        "id": "kh7qNDcJ5jik"
      },
      "source": [
        "# Classifier  input_type  accuracy   recall   precision  F1-score  [loss]"
      ],
      "execution_count": null,
      "outputs": []
    },
    {
      "cell_type": "markdown",
      "metadata": {
        "id": "FPFEud_74Vhe"
      },
      "source": [
        "With UpSampling"
      ]
    },
    {
      "cell_type": "code",
      "metadata": {
        "id": "Xv0c7aTs4XGL"
      },
      "source": [
        "'''\r\n",
        "RF\tSimple_input\t0.46582163875056587\t0.4161661133443406\t0.41667292731903266\t0.41641936612397523\r\n",
        "RF\tExtended_input_int\t0.47457371359589556\t0.4330565024830971\t0.4202551125665471\t0.42655978423104207\r\n",
        "RF\tsubseqFlat_input_int\t0.46425861283958114\t0.4338691125152671\t0.41329839283445996\t0.4233340060158415\r\n",
        "RF\tsubseqExtended_input_int\t0.464865685232964\t0.4309110083678217\t0.4090529954335421\t0.4196976011839411\r\n",
        "RF\tFreq_input_int\t0.5005311883442101\t0.48023657650269946\t0.4540078089999061\t0.4667540084435397\r\n",
        "RF\tprotvec_input_int\t0.478828350280771\t0.4368726802793647\t0.4208707362795727\t0.4287224432388813\r\n",
        "\r\n",
        "SVM\tSimple_input\t0.4798551380715256\t0.4018004263829374\t0.41424219334486584\t0.4079264633685148\r\n",
        "SVM\tExtended_input_int\t0.49781198128866755\t0.40308113419111125\t0.44701338992802303\t0.423912068831418\r\n",
        "SVM\tsubseqFlat_input_int\t0.4537866140537259\t0.40233009629640987\t0.4073951956784375\t0.4048468040518906\r\n",
        "SVM\tsubseqExtended_input_int\t0.488845044771589\t0.40400492977439645\t0.4372510247745522\t0.4199710411619971\r\n",
        "SVM\tFreq_input_int\t0.5015935650326302\t0.4884856849196019\t0.46041166552668306\t0.47403337710659527\r\n",
        "SVM\tprotvec_input_int\t0.4231294581878889\t0.3962951103992245\t0.4283905822493067\t0.4117182936477355\r\n",
        "\r\n",
        "FFW\tExtended_input_vec\t0.5124490857124329\t0.3260902464389801\t0.6289289593696594\t0.4294941884018145\t1.3252984285354614\r\n",
        "FFW\tsubseqFlat_input_vec\t0.49810290336608887\t0.31658825278282166\t0.625674843788147\t0.42043736261326753\t1.313447117805481\r\n",
        "FFW\tsubseqExtended_input_vec\t0.5199574828147888\t0.3300956189632416\t0.6306175589561462\t0.4333532593016734\t1.2918874025344849\r\n",
        "FFW\tFreq_input_vec\t0.5481863617897034\t0.2177872210741043\t0.6846374273300171\t0.3304548097289039\t1.1757991313934326\r\n",
        "FFW\tprotvec_input_vec\t0.49491578340530396\t0.32888147234916687\t0.6032850742340088\t0.4256949236971003\t1.3194283246994019\r\n",
        "\r\n",
        "CNN\tsubseq2D_input_vec\t0.52102\t0.28259\t0.67293 0.39803\t1.29374\r\n",
        "CNN\tfreq2D_input_vec\t0.5625\t0.2879  0.6921\t0.40665\t1.1750\r\n",
        "\r\n",
        "LSTM\tsubseq2D_input_vec\t0.49476\t0.15420\t0.68418\t0.25167\t1.34640\r\n",
        "LSTM\tfreq2D_input_vec\t0.54287\t0.39475 0.70297\t0.50559\t1.17333\r\n",
        "\r\n",
        "'''"
      ],
      "execution_count": null,
      "outputs": []
    },
    {
      "cell_type": "markdown",
      "metadata": {
        "id": "YNM8UNK38MBR"
      },
      "source": [
        "Unbalanced"
      ]
    },
    {
      "cell_type": "code",
      "metadata": {
        "id": "dRDCZYhh8K88"
      },
      "source": [
        "'''\r\n",
        "RF\tsubseqExtended_input_int\t0.5430262558810138\t0.3958388791192903\t0.5256732349197897\t0.4516096987192432\r\n",
        "RF\tFreq_input_int\t0.579147063287297\t0.450222225124305\t0.542562300633899\t0.49209793247613487\r\n",
        "\r\n",
        "SVM\tsubseqExtended_input_int\t0.5296706632265897\t0.3691305253042242\t0.4528985484849394\t0.40674638998144436\r\n",
        "SVM\tFreq_input_int\t0.5859766277128547\t0.45120391445178887\t0.5712248625168528\t0.5041698743338361\r\n",
        "\r\n",
        "FFW\tsubseqExtended_input_vec\t0.5402944087982178\t0.38716042041778564\t0.6375905871391296\t0.48177525652737263\t1.2360925674438477\r\n",
        "FFW\tFreq_input_vec\t0.5941721200942993\t0.41205039620399475\t0.7195865511894226\t0.524030121504307\t1.0828877687454224\r\n",
        "\r\n",
        "CNN\tsubseq2D_input_vec\t0.5352860689163208\t0.3593868613243103\t0.6473482847213745\t0.4621840593198747\t1.2313532829284668\r\n",
        "CNN\tfreq2D_input_vec\t0.5944756269454956\t0.45940202474594116\t0.684377133846283\t0.5497638921236833\t1.0882291793823242\r\n",
        "\r\n",
        "LSTM\tsubseq2D_input_vec\t0.48808619379997253\t0.27075427770614624\t0.6209536790847778\t0.3770872819720573\t1.2995712757110596\r\n",
        "LSTM\tfreq2D_input_vec\t0.5987251400947571\t0.4962816834449768\t0.6725627183914185\t0.5711291555680356\t1.0860388278961182\r\n",
        "'''"
      ],
      "execution_count": null,
      "outputs": []
    },
    {
      "cell_type": "markdown",
      "metadata": {
        "id": "S8kdntlBnwqs"
      },
      "source": [
        "With Breast and Ovarian Carcinoma"
      ]
    },
    {
      "cell_type": "code",
      "metadata": {
        "id": "T9RyTuUGn5WC",
        "colab": {
          "base_uri": "https://localhost:8080/",
          "height": 69
        },
        "outputId": "3919888b-442d-4e24-a4f3-2301db6c2d13"
      },
      "source": [
        "'''\r\n",
        "RF\tFreq_input_int\t0.4249859943977591\t0.41214062843062776\t0.3970174766483394\t0.40443772680944734\r\n",
        "SVM\tFreq_input_int\t0.4355182072829132\t0.42481942285783153\t0.411057909296946\t0.4178253843503929\r\n",
        "FFW\tFreq_input_vec\t0.4628571569919586\t0.2010084092617035\t0.6476534008979797\t0.30679778047969425\t1.2878766059875488\r\n",
        "CNN\tfreq2D_input_vec\t0.473613440990448\t0.19450980424880981\t0.6531226634979248\t0.29974963503970153\t1.2739077806472778\r\n",
        "LSTM\tfreq2D_input_vec\t0.4778711497783661\t0.17579832673072815\t0.6866520643234253\t0.27992864333150713\t1.2774616479873657\r\n",
        "'''"
      ],
      "execution_count": null,
      "outputs": [
        {
          "output_type": "execute_result",
          "data": {
            "application/vnd.google.colaboratory.intrinsic+json": {
              "type": "string"
            },
            "text/plain": [
              "'\\nRF\\tFreq_input_int\\t0.4249859943977591\\t0.41214062843062776\\t0.3970174766483394\\t0.40443772680944734\\nSVM\\tFreq_input_int\\t0.4355182072829132\\t0.42481942285783153\\t0.411057909296946\\t0.4178253843503929\\nFFW\\tFreq_input_vec\\t0.4628571569919586\\t0.2010084092617035\\t0.6476534008979797\\t0.30679778047969425\\t1.2878766059875488\\nCNN\\tfreq2D_input_vec\\t0.473613440990448\\t0.19450980424880981\\t0.6531226634979248\\t0.29974963503970153\\t1.2739077806472778\\nLSTM\\tfreq2D_input_vec\\t0.4778711497783661\\t0.17579832673072815\\t0.6866520643234253\\t0.27992864333150713\\t1.2774616479873657\\n'"
            ]
          },
          "metadata": {
            "tags": []
          },
          "execution_count": 27
        }
      ]
    }
  ]
}